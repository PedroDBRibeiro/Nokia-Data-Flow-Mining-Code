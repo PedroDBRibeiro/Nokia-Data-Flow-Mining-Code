{
 "cells": [
  {
   "cell_type": "code",
   "execution_count": 2,
   "metadata": {},
   "outputs": [
    {
     "ename": "RuntimeError",
     "evalue": "ModuleWatchdog is already installed",
     "output_type": "error",
     "traceback": [
      "\u001b[1;31m---------------------------------------------------------------------------\u001b[0m",
      "\u001b[1;31mRuntimeError\u001b[0m                              Traceback (most recent call last)",
      "Cell \u001b[1;32mIn[2], line 1\u001b[0m\n\u001b[1;32m----> 1\u001b[0m \u001b[39mfrom\u001b[39;00m \u001b[39mpycelonis\u001b[39;00m \u001b[39mimport\u001b[39;00m get_celonis\n\u001b[0;32m      2\u001b[0m \u001b[39mfrom\u001b[39;00m \u001b[39mPYCELONIS\u001b[39;00m\u001b[39m.\u001b[39;00m\u001b[39mconfigurations\u001b[39;00m \u001b[39mimport\u001b[39;00m \u001b[39m*\u001b[39m\n\u001b[0;32m      3\u001b[0m \u001b[39mfrom\u001b[39;00m \u001b[39mpycelonis\u001b[39;00m \u001b[39mimport\u001b[39;00m pql\n",
      "File \u001b[1;32m<frozen importlib._bootstrap>:1027\u001b[0m, in \u001b[0;36m_find_and_load\u001b[1;34m(name, import_)\u001b[0m\n",
      "File \u001b[1;32m<frozen importlib._bootstrap>:1006\u001b[0m, in \u001b[0;36m_find_and_load_unlocked\u001b[1;34m(name, import_)\u001b[0m\n",
      "File \u001b[1;32m<frozen importlib._bootstrap>:688\u001b[0m, in \u001b[0;36m_load_unlocked\u001b[1;34m(spec)\u001b[0m\n",
      "File \u001b[1;32m~\\AppData\\Local\\Packages\\PythonSoftwareFoundation.Python.3.10_qbz5n2kfra8p0\\LocalCache\\local-packages\\Python310\\site-packages\\ddtrace\\internal\\module.py:216\u001b[0m, in \u001b[0;36m_ImportHookChainedLoader._exec_module\u001b[1;34m(self, module)\u001b[0m\n\u001b[0;32m    214\u001b[0m     pre_exec_hook(\u001b[39mself\u001b[39m, module)\n\u001b[0;32m    215\u001b[0m \u001b[39melse\u001b[39;00m:\n\u001b[1;32m--> 216\u001b[0m     \u001b[39mself\u001b[39;49m\u001b[39m.\u001b[39;49mloader\u001b[39m.\u001b[39;49mexec_module(module)\n\u001b[0;32m    218\u001b[0m \u001b[39mfor\u001b[39;00m callback \u001b[39min\u001b[39;00m \u001b[39mself\u001b[39m\u001b[39m.\u001b[39mcallbacks\u001b[39m.\u001b[39mvalues():\n\u001b[0;32m    219\u001b[0m     callback(module)\n",
      "File \u001b[1;32m~\\AppData\\Local\\Packages\\PythonSoftwareFoundation.Python.3.10_qbz5n2kfra8p0\\LocalCache\\local-packages\\Python310\\site-packages\\pycelonis\\__init__.py:8\u001b[0m\n\u001b[0;32m      6\u001b[0m \u001b[39mfrom\u001b[39;00m \u001b[39m.\u001b[39;00m\u001b[39mcelonis_api\u001b[39;00m \u001b[39mimport\u001b[39;00m base_objects \u001b[39mas\u001b[39;00m objects_base  \u001b[39m# noqa: F401\u001b[39;00m\n\u001b[0;32m      7\u001b[0m \u001b[39mfrom\u001b[39;00m \u001b[39m.\u001b[39;00m\u001b[39mcelonis_api\u001b[39;00m \u001b[39mimport\u001b[39;00m utils \u001b[39mas\u001b[39;00m api_utils  \u001b[39m# noqa: F401\u001b[39;00m\n\u001b[1;32m----> 8\u001b[0m \u001b[39mfrom\u001b[39;00m \u001b[39m.\u001b[39;00m\u001b[39mcelonis_api\u001b[39;00m\u001b[39m.\u001b[39;00m\u001b[39mcelonis\u001b[39;00m \u001b[39mimport\u001b[39;00m Celonis \u001b[39mas\u001b[39;00m IBC  \u001b[39m# noqa: F401\u001b[39;00m\n\u001b[0;32m      9\u001b[0m \u001b[39mfrom\u001b[39;00m \u001b[39m.\u001b[39;00m\u001b[39mcelonis_api\u001b[39;00m\u001b[39m.\u001b[39;00m\u001b[39mpql\u001b[39;00m \u001b[39mimport\u001b[39;00m pql \u001b[39mas\u001b[39;00m pql  \u001b[39m# noqa: F401\u001b[39;00m\n\u001b[0;32m     10\u001b[0m \u001b[39mfrom\u001b[39;00m \u001b[39m.\u001b[39;00m\u001b[39mcelonis_api\u001b[39;00m\u001b[39m.\u001b[39;00m\u001b[39mutils\u001b[39;00m \u001b[39mimport\u001b[39;00m check_outdated\n",
      "File \u001b[1;32m<frozen importlib._bootstrap>:1027\u001b[0m, in \u001b[0;36m_find_and_load\u001b[1;34m(name, import_)\u001b[0m\n",
      "File \u001b[1;32m<frozen importlib._bootstrap>:1006\u001b[0m, in \u001b[0;36m_find_and_load_unlocked\u001b[1;34m(name, import_)\u001b[0m\n",
      "File \u001b[1;32m<frozen importlib._bootstrap>:688\u001b[0m, in \u001b[0;36m_load_unlocked\u001b[1;34m(spec)\u001b[0m\n",
      "File \u001b[1;32m~\\AppData\\Local\\Packages\\PythonSoftwareFoundation.Python.3.10_qbz5n2kfra8p0\\LocalCache\\local-packages\\Python310\\site-packages\\ddtrace\\internal\\module.py:216\u001b[0m, in \u001b[0;36m_ImportHookChainedLoader._exec_module\u001b[1;34m(self, module)\u001b[0m\n\u001b[0;32m    214\u001b[0m     pre_exec_hook(\u001b[39mself\u001b[39m, module)\n\u001b[0;32m    215\u001b[0m \u001b[39melse\u001b[39;00m:\n\u001b[1;32m--> 216\u001b[0m     \u001b[39mself\u001b[39;49m\u001b[39m.\u001b[39;49mloader\u001b[39m.\u001b[39;49mexec_module(module)\n\u001b[0;32m    218\u001b[0m \u001b[39mfor\u001b[39;00m callback \u001b[39min\u001b[39;00m \u001b[39mself\u001b[39m\u001b[39m.\u001b[39mcallbacks\u001b[39m.\u001b[39mvalues():\n\u001b[0;32m    219\u001b[0m     callback(module)\n",
      "File \u001b[1;32m~\\AppData\\Local\\Packages\\PythonSoftwareFoundation.Python.3.10_qbz5n2kfra8p0\\LocalCache\\local-packages\\Python310\\site-packages\\pycelonis\\celonis_api\\celonis.py:8\u001b[0m\n\u001b[0;32m      5\u001b[0m \u001b[39mimport\u001b[39;00m \u001b[39mtextwrap\u001b[39;00m\n\u001b[0;32m      6\u001b[0m \u001b[39mimport\u001b[39;00m \u001b[39mtyping\u001b[39;00m\n\u001b[1;32m----> 8\u001b[0m \u001b[39mfrom\u001b[39;00m \u001b[39mddtrace\u001b[39;00m \u001b[39mimport\u001b[39;00m tracer\n\u001b[0;32m      9\u001b[0m \u001b[39mfrom\u001b[39;00m \u001b[39mrequests\u001b[39;00m \u001b[39mimport\u001b[39;00m Session, HTTPError, \u001b[39mConnectionError\u001b[39;00m, ReadTimeout, Response\n\u001b[0;32m     11\u001b[0m \u001b[39mfrom\u001b[39;00m \u001b[39mrequests\u001b[39;00m\u001b[39m.\u001b[39;00m\u001b[39madapters\u001b[39;00m \u001b[39mimport\u001b[39;00m HTTPAdapter\n",
      "File \u001b[1;32m<frozen importlib._bootstrap>:1027\u001b[0m, in \u001b[0;36m_find_and_load\u001b[1;34m(name, import_)\u001b[0m\n",
      "File \u001b[1;32m<frozen importlib._bootstrap>:1006\u001b[0m, in \u001b[0;36m_find_and_load_unlocked\u001b[1;34m(name, import_)\u001b[0m\n",
      "File \u001b[1;32m<frozen importlib._bootstrap>:688\u001b[0m, in \u001b[0;36m_load_unlocked\u001b[1;34m(spec)\u001b[0m\n",
      "File \u001b[1;32m~\\AppData\\Local\\Packages\\PythonSoftwareFoundation.Python.3.10_qbz5n2kfra8p0\\LocalCache\\local-packages\\Python310\\site-packages\\ddtrace\\internal\\module.py:216\u001b[0m, in \u001b[0;36m_ImportHookChainedLoader._exec_module\u001b[1;34m(self, module)\u001b[0m\n\u001b[0;32m    214\u001b[0m     pre_exec_hook(\u001b[39mself\u001b[39m, module)\n\u001b[0;32m    215\u001b[0m \u001b[39melse\u001b[39;00m:\n\u001b[1;32m--> 216\u001b[0m     \u001b[39mself\u001b[39;49m\u001b[39m.\u001b[39;49mloader\u001b[39m.\u001b[39;49mexec_module(module)\n\u001b[0;32m    218\u001b[0m \u001b[39mfor\u001b[39;00m callback \u001b[39min\u001b[39;00m \u001b[39mself\u001b[39m\u001b[39m.\u001b[39mcallbacks\u001b[39m.\u001b[39mvalues():\n\u001b[0;32m    219\u001b[0m     callback(module)\n",
      "File \u001b[1;32m~\\AppData\\Local\\Packages\\PythonSoftwareFoundation.Python.3.10_qbz5n2kfra8p0\\LocalCache\\local-packages\\Python310\\site-packages\\ddtrace\\__init__.py:4\u001b[0m\n\u001b[0;32m      1\u001b[0m \u001b[39mfrom\u001b[39;00m \u001b[39mddtrace\u001b[39;00m\u001b[39m.\u001b[39;00m\u001b[39minternal\u001b[39;00m\u001b[39m.\u001b[39;00m\u001b[39mmodule\u001b[39;00m \u001b[39mimport\u001b[39;00m ModuleWatchdog\n\u001b[1;32m----> 4\u001b[0m ModuleWatchdog\u001b[39m.\u001b[39;49minstall()\n\u001b[0;32m      6\u001b[0m \u001b[39mfrom\u001b[39;00m \u001b[39m.\u001b[39;00m\u001b[39m_logger\u001b[39;00m \u001b[39mimport\u001b[39;00m configure_ddtrace_logger  \u001b[39m# noqa: E402\u001b[39;00m\n\u001b[0;32m      9\u001b[0m \u001b[39m# configure ddtrace logger before other modules log\u001b[39;00m\n",
      "File \u001b[1;32m~\\AppData\\Local\\Packages\\PythonSoftwareFoundation.Python.3.10_qbz5n2kfra8p0\\LocalCache\\local-packages\\Python310\\site-packages\\ddtrace\\internal\\module.py:550\u001b[0m, in \u001b[0;36mModuleWatchdog.install\u001b[1;34m(cls)\u001b[0m\n\u001b[0;32m    548\u001b[0m \u001b[39m\u001b[39m\u001b[39m\"\"\"Install the module watchdog.\"\"\"\u001b[39;00m\n\u001b[0;32m    549\u001b[0m \u001b[39mif\u001b[39;00m \u001b[39mcls\u001b[39m\u001b[39m.\u001b[39mis_installed():\n\u001b[1;32m--> 550\u001b[0m     \u001b[39mraise\u001b[39;00m \u001b[39mRuntimeError\u001b[39;00m(\u001b[39m\"\u001b[39m\u001b[39m%s\u001b[39;00m\u001b[39m is already installed\u001b[39m\u001b[39m\"\u001b[39m \u001b[39m%\u001b[39m \u001b[39mcls\u001b[39m\u001b[39m.\u001b[39m\u001b[39m__name__\u001b[39m)\n\u001b[0;32m    552\u001b[0m \u001b[39mcls\u001b[39m\u001b[39m.\u001b[39m_instance \u001b[39m=\u001b[39m sys\u001b[39m.\u001b[39mmodules \u001b[39m=\u001b[39m \u001b[39mcls\u001b[39m()\n\u001b[0;32m    553\u001b[0m sys\u001b[39m.\u001b[39mmodules\u001b[39m.\u001b[39m_add_to_meta_path()\n",
      "\u001b[1;31mRuntimeError\u001b[0m: ModuleWatchdog is already installed"
     ]
    }
   ],
   "source": [
    "from pycelonis import get_celonis\n",
    "from PYCELONIS.configurations import *\n",
    "from pycelonis import pql\n",
    "import pandas as pd\n",
    "import numpy\n",
    "import datetime\n",
    "\n",
    "\n",
    "class Celonis:\n",
    "    def __init__(self):\n",
    "\n",
    "        self.url = load_property('CELONISCONNECTION', 'celonis_url')\n",
    "        self.api_key = load_property('CELONISCONNECTION', 'celonis_api_key')\n",
    "        self.celonis = get_celonis(url=self.url, api_token=self.api_key, key_type=\"APP_KEY\")\n",
    "        self.data_pool = \"SAP ECC O2C\"#\"e8abd6b8-f2c7-4612-8578-e96b13dd8802\"\n",
    "        self.data_model = \"O2C | DataFlow\"#\"db06d4e5-51e3-49fb-8da9-4a35ded7f943\"\n",
    "\n",
    "\n",
    "    def print_datamodel_tables(self):\n",
    "        dm = self.celonis.datamodels.find(self.data_model)\n",
    "        return(dm.tables)\n",
    "    \n",
    "\n",
    "    def get_data(self, table_name):\n",
    "        #This method takes a table -tabname parameter- from a celonis data model.\n",
    "        #query += pql.PQLFilter(\"tab.colname == value\")\n",
    "        datamodel = self.celonis.datamodels.find(self.data_model)\n",
    "        columns = datamodel.tables.find(table_name).columns\n",
    "        q = pql.PQL()\n",
    "        for cols in range(len(columns)):\n",
    "            q += pql.PQLColumn(query = table_name+ f\".{columns[cols]['name']}\", name =  columns[cols]['name'].upper())#.replace(\"/\",\"\").replace(\" \",\"\").replace(\"_\",\"\"))\n",
    "        DF = datamodel._get_data_frame(q, chunksize = 1000000)\n",
    "        return(DF)\n",
    "    \n",
    "    def get_data_id(self, table_name):\n",
    "        datamodel = self.celonis.datamodels.find(self.data_model)\n",
    "        table = datamodel.tables.find(table_name)\n",
    "        columns = datamodel.tables.find(table_name).columns\n",
    "        q = pql.PQL()\n",
    "        for cols in range(len(columns)):\n",
    "            q += pql.PQLColumn(query = table.name + f\".{columns[cols]['name']}\", name =  columns[cols]['name'].upper())\n",
    "        DF = datamodel._get_data_frame(q, chunksize = 1000000)\n",
    "        return(DF)\n",
    "\n",
    "\n",
    "   #def get_data_array_OLD(self, array):\n",
    "   #    datamodel = self.celonis.datamodels.find(self.data_model)\n",
    "   #    col_array = array\n",
    "   #    q = pql.PQL()\n",
    "   #    for cols in range(len(col_array)):\n",
    "   #        q += pql.PQLColumn( query= col_array[cols], name = f\"{col_array[cols].split('.')[1]}\")\n",
    "   #    DF = datamodel._get_data_frame(q,chunksize = 1000000)\n",
    "   #    return(DF)\n",
    "   #\n",
    "\n",
    "    def get_data_array(self, array):\n",
    "        datamodel = self.celonis.datamodels.find(self.data_model)\n",
    "        col_array = array\n",
    "        q = pql.PQL()\n",
    "        for cols in range(len(col_array)):\n",
    "            q += pql.PQLColumn(query= col_array[cols], name = f\"{col_array[cols]}\")\n",
    "        DF = datamodel._get_data_frame(q,chunksize = 1000000)\n",
    "        return(DF)\n",
    "    \n",
    "    def get_cols(self,array):\n",
    "        all_cols = []\n",
    "        datamodel = self.celonis.datamodels.find(self.data_model)\n",
    "        for i in array:\n",
    "            data = datamodel.tables.find(i).columns\n",
    "            cols = numpy.array([d['name'] for d in data])\n",
    "            all_cols.append(cols)\n",
    "\n",
    "        return(all_cols)\n",
    "    \n",
    "    def get_data_array_filter(self, array, filter):\n",
    "        datamodel = self.celonis.datamodels.find(self.data_model)\n",
    "        col_array = array\n",
    "        q = pql.PQL()\n",
    "        for cols in range(len(col_array)):\n",
    "            q += pql.PQLColumn( query= col_array[cols], name = f\"{col_array[cols]}\") # .split('.')[1]}\")\n",
    "        q += pql.PQLFilter(filter)\n",
    "        DF = datamodel._get_data_frame(q,chunksize = 1000000)\n",
    "        return(DF)\n",
    "    \n",
    "    def get_cols_dict(self,array):\n",
    "        cols = {}\n",
    "        datamodel = self.celonis.datamodels.find(self.data_model)\n",
    "        for i in array:\n",
    "            data = datamodel.tables.find(i).columns\n",
    "            col_names = [d['name'] for d in data]\n",
    "            cols[i] = col_names\n",
    "\n",
    "        return(cols)\n",
    "    \n",
    "c = Celonis()"
   ]
  },
  {
   "cell_type": "code",
   "execution_count": null,
   "metadata": {},
   "outputs": [],
   "source": [
    "vbap_array = ['VBAP.MANDT',\"VBAP.ERDAT\",\"VBAP.ERZET\",\"VBAP.POSNR\",\"VBAP.ERNAM\",\"VBAP.NETWR\",\"VBAP.MATNR\",\"VBAP.WERKS\",\"VBAP.ABGRU\",\"VBAP.VBELN\"]\n",
    "vbak_array = [\"VBAK.MANDT\",\"VBAK.VBELN\",\"VBAK.VBTYP\",\"VBAK.OBJNR\",\"VBAK.WAERK\",\"VBAK.BUKRS_VF\",\"VBAK.KUNNR\",\"VBAK.KKBER\",\"VBAK.LIFSK\",\"VBAK.FAKSK\"]\n",
    "USR02_array = ['USR02.MANDT','USR02.BNAME','USR02.USTYP']\n",
    "CDPOS_array = ['CDPOS.MANDANT','CDPOS.TABKEY',\"CDPOS.OBJECTCLAS\",'CDPOS.OBJECTID','CDPOS.CHANGENR','CDPOS.TABNAME','CDPOS.FNAME','CDPOS.CHNGIND', 'CDPOS.VALUE_OLD', 'CDPOS.VALUE_NEW']\n",
    "CDHDR_array = ['CDHDR.MANDANT','CDHDR.TCODE',\"CDHDR.OBJECTCLAS\", \"CDHDR.OBJECTID\",\"CDHDR.CHANGENR\", \"CDHDR.UDATE\", \"CDHDR.UTIME\", \"CDHDR.USERNAME\"]"
   ]
  },
  {
   "cell_type": "code",
   "execution_count": null,
   "metadata": {},
   "outputs": [],
   "source": [
    "vbap = c.get_data_array(vbap_array)\n",
    "vbap['VBAP.ERDAT'] = pd.to_datetime(vbap['VBAP.ERDAT'])  # Convert 'ERDAT' column to datetime\n",
    "vbap = vbap[(vbap['VBAP.ERDAT'] <= '2021-01-05') & (vbap['VBAP.ERDAT'] >= '2021-01-01')]"
   ]
  },
  {
   "cell_type": "code",
   "execution_count": null,
   "metadata": {},
   "outputs": [],
   "source": [
    "vbak = c.get_data_array(vbak_array)"
   ]
  },
  {
   "cell_type": "code",
   "execution_count": null,
   "metadata": {},
   "outputs": [],
   "source": [
    "VBAK_VBAP = pd.merge(\n",
    "    vbak[['VBAK.MANDT', 'VBAK.VBELN', 'VBAK.VBTYP', 'VBAK.OBJNR', 'VBAK.WAERK', 'VBAK.BUKRS_VF', 'VBAK.KUNNR', 'VBAK.KKBER', 'VBAK.LIFSK', 'VBAK.FAKSK']],\n",
    "    vbap[['VBAP.MANDT', 'VBAP.VBELN', 'VBAP.ERDAT', 'VBAP.ERZET', 'VBAP.POSNR', 'VBAP.ERNAM', 'VBAP.NETWR', 'VBAP.MATNR', 'VBAP.WERKS', 'VBAP.ABGRU']],\n",
    "    how='inner',\n",
    "    left_on=['VBAK.MANDT', 'VBAK.VBELN'],\n",
    "    right_on=['VBAP.MANDT', 'VBAP.VBELN']\n",
    ").drop_duplicates()"
   ]
  },
  {
   "cell_type": "code",
   "execution_count": null,
   "metadata": {},
   "outputs": [],
   "source": [
    "VBAK_VBAP['VBAK_VBAP._CASE_KEY'] = VBAK_VBAP['VBAK.MANDT'] + VBAK_VBAP['VBAK.VBELN'] + VBAK_VBAP['VBAP.POSNR']\n",
    "VBAK_VBAP['VBAK_VBAP.TABKEY_VBAK'] = VBAK_VBAP['VBAK.MANDT'] + VBAK_VBAP['VBAK.VBELN']\n",
    "VBAK_VBAP['VBAK_VBAP.EVENTTIME']= pd.to_datetime(VBAK_VBAP[\"VBAP.ERDAT\"].dt.date.astype(str) + ' ' + VBAK_VBAP[\"VBAP.ERZET\"].dt.strftime('%H:%M:%S'))"
   ]
  },
  {
   "cell_type": "code",
   "execution_count": null,
   "metadata": {},
   "outputs": [],
   "source": [
    "USR02 = c.get_data_array(USR02_array)"
   ]
  },
  {
   "cell_type": "code",
   "execution_count": null,
   "metadata": {},
   "outputs": [],
   "source": [
    "CDPOS =  c.get_data_array_filter(CDPOS_array,filter=\"(CDPOS.TABNAME IN ('VBAK','VBAP','FPLT')) AND (CDPOS.MANDANT in ('000'))\")"
   ]
  },
  {
   "cell_type": "code",
   "execution_count": null,
   "metadata": {},
   "outputs": [],
   "source": [
    "CDHDR =  c.get_data_array_filter(CDHDR_array,filter=\"CDHDR.MANDANT IN ('000')\")"
   ]
  },
  {
   "cell_type": "code",
   "execution_count": null,
   "metadata": {},
   "outputs": [],
   "source": [
    "CDPOS_CDHDR = pd.merge(\n",
    "    CDHDR[['CDHDR.MANDANT', 'CDHDR.OBJECTCLAS', 'CDHDR.OBJECTID', 'CDHDR.CHANGENR', 'CDHDR.UDATE', 'CDHDR.USERNAME',\"CDHDR.TCODE\",\"CDHDR.UTIME\"]],\n",
    "    CDPOS[['CDPOS.MANDANT', 'CDPOS.OBJECTCLAS','CDPOS.OBJECTID','CDPOS.CHANGENR','CDPOS.FNAME', 'CDPOS.TABNAME', 'CDPOS.TABKEY', 'CDPOS.VALUE_OLD', 'CDPOS.VALUE_NEW', 'CDPOS.CHNGIND']],\n",
    "    how='inner',\n",
    "    left_on=['CDHDR.MANDANT', 'CDHDR.OBJECTCLAS', 'CDHDR.OBJECTID', 'CDHDR.CHANGENR'],\n",
    "    right_on=['CDPOS.MANDANT', 'CDPOS.OBJECTCLAS','CDPOS.OBJECTID','CDPOS.CHANGENR']\n",
    ")\n",
    "\n",
    "#CDPOS_CDHDR = CDPOS_CDHDR[\n",
    "#    (CDPOS_CDHDR['CHNGIND'] == 'U') &\n",
    "#    (CDPOS_CDHDR['UDATE'].notnull()) &\n",
    "#    (CDPOS_CDHDR['TABNAME'].isin(['VBAK', 'VBAP', 'FPLT']))\n",
    "#]\n",
    "#\n",
    "CDPOS_CDHDR['CDPOS_CDHDR.EVENTTIME'] = pd.to_datetime(CDPOS_CDHDR['CDHDR.UDATE']) + pd.to_timedelta(CDPOS_CDHDR['CDHDR.UTIME'].astype(str))\n",
    "\n",
    "#TMP_O2C_CDHDR_CDPOS = TMP_O2C_CDHDR_CDPOS[['MANDANT', 'FNAME', 'TABNAME', 'TABKEY', 'VALUE_OLD', 'VALUE_NEW', 'EVENTTIME', 'CHANGENR', 'TCODE', 'OBJECTCLAS', 'OBJECTID', 'USERNAME']]"
   ]
  },
  {
   "attachments": {},
   "cell_type": "markdown",
   "metadata": {},
   "source": [
    "MILESTONES"
   ]
  },
  {
   "cell_type": "code",
   "execution_count": null,
   "metadata": {},
   "outputs": [],
   "source": [
    "create_so = pd.merge(\n",
    "    VBAK_VBAP[['VBAK_VBAP._CASE_KEY', 'VBAK.MANDT', 'VBAK.VBELN', 'VBAP.POSNR','VBAP.ERDAT','VBAP.ERZET','VBAP.ERNAM']],\n",
    "    USR02[['USR02.MANDT', 'USR02.BNAME', 'USR02.USTYP']],\n",
    "    how='left',\n",
    "    left_on=['VBAK.MANDT', 'VBAP.ERNAM'],\n",
    "    right_on=['USR02.MANDT', 'USR02.BNAME']\n",
    ")        \n",
    "\n",
    "\n",
    "create_so['create_so.ACTIVITY_EN'] = 'Create Sales Order'\n",
    "create_so['create_so._SORTING'] = 11\n",
    "create_so['create_so._ACTIVITY_KEY'] = create_so['VBAK.MANDT'] + create_so['VBAK.VBELN']\n",
    "create_so['create_so.EVENTTIME'] = create_so.apply(lambda row: datetime.datetime.combine(row['VBAP.ERDAT'].date(), row['VBAP.ERZET'].time()), axis=1)\n"
   ]
  },
  {
   "cell_type": "code",
   "execution_count": null,
   "metadata": {},
   "outputs": [],
   "source": [
    "create_so_item = pd.merge(\n",
    "    pd.merge(\n",
    "        VBAK_VBAP[['VBAK_VBAP._CASE_KEY', 'VBAK.MANDT', 'VBAP.VBELN', 'VBAP.POSNR','VBAP.ERDAT','VBAP.ERZET','VBAP.ERNAM']],\n",
    "        USR02[['USR02.MANDT', 'USR02.BNAME', 'USR02.USTYP']],\n",
    "        how='left',\n",
    "        left_on=['VBAK.MANDT', 'VBAP.ERNAM'],\n",
    "        right_on=['USR02.MANDT', 'USR02.BNAME']\n",
    "    ),\n",
    "    CDPOS_CDHDR.groupby('CDPOS.TABKEY')['CDHDR.TCODE'].max().reset_index(),\n",
    "    how='left',\n",
    "    left_on=['VBAK_VBAP._CASE_KEY'],\n",
    "    right_on=['CDPOS.TABKEY']\n",
    ")\n",
    "\n",
    "create_so_item['create_so_item.ACTIVITY_DE'] = 'Lege Auftragsposition an'\n",
    "create_so_item['create_so_item.ACTIVITY_EN'] = 'CreateSOItem'\n",
    "create_so_item['create_so_item.EVENTTIME'] = create_so_item.apply(lambda row: datetime.datetime.combine(row['VBAP.ERDAT'].date(), row['VBAP.ERZET'].time()), axis=1)\n",
    "create_so_item['create_so_item._SORTING'] = 19\n",
    "create_so_item['create_so_item._ACTIVITY_KEY'] = create_so_item['VBAK.MANDT'] + create_so_item['VBAP.VBELN'] + create_so_item['VBAP.POSNR']"
   ]
  },
  {
   "cell_type": "code",
   "execution_count": null,
   "metadata": {},
   "outputs": [],
   "source": [
    "add_item = pd.merge(\n",
    "    pd.merge(\n",
    "        pd.merge(\n",
    "            VBAK_VBAP[['VBAK_VBAP._CASE_KEY', 'VBAK.MANDT', 'VBAP.VBELN', 'VBAP.POSNR']],\n",
    "            CDPOS[['CDPOS.MANDANT',\"CDPOS.OBJECTCLAS\",\"CDPOS.OBJECTID\",\"CDPOS.CHANGENR\",'CDPOS.TABKEY', 'CDPOS.FNAME', 'CDPOS.CHNGIND','CDPOS.TABNAME']],\n",
    "            how='inner',\n",
    "            left_on='VBAK_VBAP._CASE_KEY',\n",
    "            right_on='CDPOS.TABKEY'\n",
    "        ),\n",
    "        CDHDR[['CDHDR.MANDANT', 'CDHDR.OBJECTCLAS', 'CDHDR.OBJECTID', 'CDHDR.CHANGENR', 'CDHDR.TCODE', 'CDHDR.USERNAME']],\n",
    "        how='inner',\n",
    "        left_on=['CDPOS.MANDANT', 'CDPOS.OBJECTCLAS', 'CDPOS.OBJECTID', 'CDPOS.CHANGENR'],\n",
    "        right_on=['CDHDR.MANDANT', 'CDHDR.OBJECTCLAS', 'CDHDR.OBJECTID', 'CDHDR.CHANGENR']\n",
    "    ),\n",
    "    USR02[['USR02.MANDT', 'USR02.BNAME', 'USR02.USTYP']],\n",
    "    how='left',\n",
    "    left_on=['CDPOS.MANDANT', 'CDHDR.USERNAME'],\n",
    "    right_on=['USR02.MANDT', 'USR02.BNAME']\n",
    ")\n",
    "\n",
    "add_item['add_item.ACTIVITY_EN'] = add_item.apply(lambda row: 'Change: Item add' if row['CDPOS.FNAME'] == 'KEY' and row['CDPOS.CHNGIND'] == 'I' else None, axis=1)\n",
    "add_item['add_item._ACTIVITY_KEY'] = add_item['CDPOS.MANDANT'] + add_item['CDPOS.OBJECTCLAS'] + add_item['CDPOS.OBJECTID'] + add_item['CDPOS.CHANGENR']"
   ]
  },
  {
   "attachments": {},
   "cell_type": "markdown",
   "metadata": {},
   "source": [
    "Intermediary Steps"
   ]
  },
  {
   "cell_type": "code",
   "execution_count": null,
   "metadata": {},
   "outputs": [],
   "source": [
    "milestones = [create_so, create_so_item,add_item]#ship_to_party,set_billing_block,delivery_docs,changes_schedule_line,changes_business_data,changes_so_item,changes_so_header]"
   ]
  },
  {
   "cell_type": "code",
   "execution_count": null,
   "metadata": {},
   "outputs": [],
   "source": [
    "def build_key_value_array(dictionary):\n",
    "    key_value_array = []\n",
    "    \n",
    "    for key, value in dictionary.items():\n",
    "        for col in value:\n",
    "            key_value_array.append(key + \".\" + col)\n",
    "    \n",
    "    return key_value_array"
   ]
  },
  {
   "cell_type": "code",
   "execution_count": null,
   "metadata": {},
   "outputs": [],
   "source": [
    "list_all_tables = []\n",
    "for i in c.print_datamodel_tables():\n",
    "    list_all_tables.append(i.name)\n",
    "\n",
    "all_columns = c.get_cols_dict(list_all_tables)\n",
    "full_column_array = build_key_value_array(all_columns)\n",
    "full_column_array"
   ]
  },
  {
   "attachments": {},
   "cell_type": "markdown",
   "metadata": {},
   "source": [
    "Imports"
   ]
  },
  {
   "cell_type": "code",
   "execution_count": null,
   "metadata": {},
   "outputs": [],
   "source": [
    "from jmetal.algorithm.singleobjective.genetic_algorithm import GeneticAlgorithm \n",
    "from jmetal.operator import BitFlipMutation\n",
    "from jmetal.operator.crossover import SPXCrossover\n",
    "from jmetal.operator.selection import BestSolutionSelection\n",
    "from jmetal.util.termination_criterion import StoppingByEvaluations\n",
    "from jmetal.problem.singleobjective.orderToCash import orderToCash"
   ]
  },
  {
   "attachments": {},
   "cell_type": "markdown",
   "metadata": {},
   "source": [
    "Algorithms"
   ]
  },
  {
   "cell_type": "code",
   "execution_count": null,
   "metadata": {},
   "outputs": [],
   "source": [
    "problem = orderToCash(milestones_test=milestones,full_datamodel_cols=full_column_array,number_of_variables=len(full_column_array), number_of_objectives=1)\n",
    "\n",
    "\n",
    "algorithm = GeneticAlgorithm(\n",
    "    problem = problem,\n",
    "    population_size = 20,\n",
    "    offspring_population_size = 20,\n",
    "    mutation = BitFlipMutation(probability=1/problem.number_of_variables),\n",
    "    crossover=  SPXCrossover(probability=0.85),\n",
    "    selection = BestSolutionSelection(),\n",
    "    termination_criterion =  StoppingByEvaluations(max= 100)\n",
    ")\n",
    "algorithm.run()\n",
    "\n",
    "# Create one random solution\n",
    "#solution = problem.create_solution()\n",
    "\n",
    "# Evaluate the solution\n",
    "#evaluated_solution = problem.evaluate(solution)\n"
   ]
  },
  {
   "cell_type": "code",
   "execution_count": 3,
   "metadata": {},
   "outputs": [],
   "source": [
    "\n",
    "def contains_all_ones(milestones, solution):\n",
    "    for i in range(len(milestones)):\n",
    "        if milestones[i] == 1 and solution[i] != 1:\n",
    "            return 0\n",
    "    return 1"
   ]
  },
  {
   "cell_type": "code",
   "execution_count": 12,
   "metadata": {},
   "outputs": [],
   "source": [
    "milestones= [0,1,1,0,0]\n",
    "solution=[1,1,1,1,0]"
   ]
  },
  {
   "cell_type": "code",
   "execution_count": 13,
   "metadata": {},
   "outputs": [
    {
     "data": {
      "text/plain": [
       "1"
      ]
     },
     "execution_count": 13,
     "metadata": {},
     "output_type": "execute_result"
    }
   ],
   "source": [
    "contains_all_ones(milestones,solution)"
   ]
  }
 ],
 "metadata": {
  "kernelspec": {
   "display_name": "Python 3",
   "language": "python",
   "name": "python3"
  },
  "language_info": {
   "codemirror_mode": {
    "name": "ipython",
    "version": 3
   },
   "file_extension": ".py",
   "mimetype": "text/x-python",
   "name": "python",
   "nbconvert_exporter": "python",
   "pygments_lexer": "ipython3",
   "version": "3.10.11"
  },
  "orig_nbformat": 4
 },
 "nbformat": 4,
 "nbformat_minor": 2
}
