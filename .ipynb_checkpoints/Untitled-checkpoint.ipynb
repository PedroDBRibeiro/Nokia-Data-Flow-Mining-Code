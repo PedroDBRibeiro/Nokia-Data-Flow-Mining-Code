{
 "cells": [
  {
   "cell_type": "code",
   "execution_count": 1,
   "id": "ace9ce06",
   "metadata": {},
   "outputs": [],
   "source": [
    "from pycelonis import get_celonis\n",
    "from PYCELONIS.configurations import *\n",
    "from pycelonis import pql\n",
    "\n",
    "\n",
    "class Celonis:\n",
    "    def __init__(self):\n",
    "\n",
    "        self.url = load_property('CELONISCONNECTION', 'celonis_url')\n",
    "        self.api_key = load_property('CELONISCONNECTION', 'celonis_api_key')\n",
    "        self.celonis = get_celonis(url=self.url, api_token=self.api_key, key_type=\"APP_KEY\")\n",
    "        self.data_pool = \"SAP ECC O2C\"#\"e8abd6b8-f2c7-4612-8578-e96b13dd8802\"\n",
    "        self.data_model = \"O2C | DataFlow\"#\"db06d4e5-51e3-49fb-8da9-4a35ded7f943\"\n",
    "\n",
    "\n",
    "    def print_datamodel_tables(self):\n",
    "        dm = self.celonis.datamodels.find(self.data_model)\n",
    "        return(dm.tables)\n",
    "    \n",
    "\n",
    "    def get_data(self, table_name):\n",
    "        #This method takes a table -tabname parameter- from a celonis data model.\n",
    "        #query += pql.PQLFilter(\"tab.colname == value\")\n",
    "        datamodel = self.celonis.datamodels.find(self.data_model)\n",
    "        columns = datamodel.tables.find(table_name).columns\n",
    "        q = pql.PQL()\n",
    "        for cols in range(1,len(columns)):\n",
    "            q += pql.PQLColumn(query = table_name+ f\".{columns[cols]['name']}\", name =  columns[cols]['name'].upper())\n",
    "        DF = datamodel._get_data_frame(q, chunksize = 1000000)\n",
    "        return(DF)\n"
   ]
  },
  {
   "cell_type": "code",
   "execution_count": 2,
   "id": "9ca29718",
   "metadata": {},
   "outputs": [
    {
     "name": "stdout",
     "output_type": "stream",
     "text": [
      "<configparser.RawConfigParser object at 0x000001BC27145CC0>\n",
      "<configparser.RawConfigParser object at 0x000001BC27145480>\n"
     ]
    },
    {
     "name": "stderr",
     "output_type": "stream",
     "text": [
      "C:\\Users\\pedrribe\\AppData\\Local\\anaconda3\\lib\\site-packages\\pkg_resources\\__init__.py:123: PkgResourcesDeprecationWarning: 1.7.1#sha256=1a33bea4a3fe5bf28b39faa561448594f768b243c3260800b7bddf5b80b46d2e is an invalid version and will not be supported in a future release\n",
      "  warnings.warn(\n",
      "C:\\Users\\pedrribe\\AppData\\Local\\anaconda3\\lib\\site-packages\\pkg_resources\\_vendor\\packaging\\version.py:111: DeprecationWarning: Creating a LegacyVersion has been deprecated and will be removed in the next major release\n",
      "  warnings.warn(\n",
      "C:\\Users\\pedrribe\\AppData\\Local\\anaconda3\\lib\\site-packages\\pkg_resources\\__init__.py:123: PkgResourcesDeprecationWarning: 1.7.4#sha256=54e0ebbc94aa5ca988ffd064788dc2d76e3c5acc968e21bf0e92135c19d4d4de is an invalid version and will not be supported in a future release\n",
      "  warnings.warn(\n",
      "C:\\Users\\pedrribe\\AppData\\Local\\anaconda3\\lib\\site-packages\\pkg_resources\\__init__.py:123: PkgResourcesDeprecationWarning: 1.7.5#sha256=9a6d71a4721dfd007002e1a6f8a2c1b43f124d01da906ca27e33f0d08cb80d35 is an invalid version and will not be supported in a future release\n",
      "  warnings.warn(\n",
      "C:\\Users\\pedrribe\\AppData\\Local\\anaconda3\\lib\\site-packages\\pkg_resources\\__init__.py:123: PkgResourcesDeprecationWarning: 1.7.6#sha256=d58b81ca862fb929f3356ba38c409bbecba58c8c12e47e9d90c3cfc3397a9998 is an invalid version and will not be supported in a future release\n",
      "  warnings.warn(\n",
      "C:\\Users\\pedrribe\\AppData\\Local\\anaconda3\\lib\\site-packages\\pkg_resources\\__init__.py:123: PkgResourcesDeprecationWarning: 2.0.0#sha256=4b8f378e04ec4df82f6303643df4eae856eafc9f88c082e97e8d97361c372712 is an invalid version and will not be supported in a future release\n",
      "  warnings.warn(\n",
      "C:\\Users\\pedrribe\\AppData\\Local\\anaconda3\\lib\\site-packages\\pkg_resources\\__init__.py:123: PkgResourcesDeprecationWarning: 2.0.1#sha256=f24e77637decd51173e05e3eb539acf2e6efb96f125bda7146d20d1f9967c60c is an invalid version and will not be supported in a future release\n",
      "  warnings.warn(\n",
      "C:\\Users\\pedrribe\\AppData\\Local\\anaconda3\\lib\\site-packages\\pkg_resources\\__init__.py:123: PkgResourcesDeprecationWarning: 2.0.2#sha256=6cec10510632b55d322999bcaf78ba4487b57f37555c209109bd2c667157f1cc is an invalid version and will not be supported in a future release\n",
      "  warnings.warn(\n"
     ]
    },
    {
     "name": "stdout",
     "output_type": "stream",
     "text": [
      "[2023-04-12 20:58:12] INFO: Initial connect successful! You are using an Application Key. PyCelonis Version: 1.7.0\n",
      "[2023-04-12 20:58:12] INFO: Your key has following permissions:\n",
      "[\n",
      "    {\n",
      "        \"permissions\": [],\n",
      "        \"serviceName\": \"package-manager\"\n",
      "    },\n",
      "    {\n",
      "        \"permissions\": [],\n",
      "        \"serviceName\": \"workflows\"\n",
      "    },\n",
      "    {\n",
      "        \"permissions\": [],\n",
      "        \"serviceName\": \"task-mining\"\n",
      "    },\n",
      "    {\n",
      "        \"permissions\": [],\n",
      "        \"serviceName\": \"action-engine\"\n",
      "    },\n",
      "    {\n",
      "        \"permissions\": [],\n",
      "        \"serviceName\": \"team\"\n",
      "    },\n",
      "    {\n",
      "        \"permissions\": [],\n",
      "        \"serviceName\": \"process-repository\"\n",
      "    },\n",
      "    {\n",
      "        \"permissions\": [],\n",
      "        \"serviceName\": \"process-analytics\"\n",
      "    },\n",
      "    {\n",
      "        \"permissions\": [],\n",
      "        \"serviceName\": \"transformation-center\"\n",
      "    },\n",
      "    {\n",
      "        \"permissions\": [],\n",
      "        \"serviceName\": \"storage-manager\"\n",
      "    },\n",
      "    {\n",
      "        \"permissions\": [\n",
      "            \"$ACCESS_CHILD\"\n",
      "        ],\n",
      "        \"serviceName\": \"event-collection\"\n",
      "    },\n",
      "    {\n",
      "        \"permissions\": [],\n",
      "        \"serviceName\": \"user-provisioning\"\n",
      "    },\n",
      "    {\n",
      "        \"permissions\": [],\n",
      "        \"serviceName\": \"ml-workbench\"\n",
      "    }\n",
      "]\n"
     ]
    }
   ],
   "source": [
    "c = Celonis()"
   ]
  },
  {
   "cell_type": "code",
   "execution_count": 3,
   "id": "dae11753",
   "metadata": {
    "collapsed": true
   },
   "outputs": [
    {
     "name": "stdout",
     "output_type": "stream",
     "text": [
      "[\n",
      "<DatamodelTable, id 6626d582-2b42-424f-9981-7e39c974cd3f, name VBEP_EBAN_LINK>,\n",
      "<DatamodelTable, id ae5356b7-ba7a-457a-bf75-fd34e0b6f429, name EBAN>,\n",
      "<DatamodelTable, id 3fb82cbd-b5a7-446e-a9b4-6e69788cf870, name BSEG>,\n",
      "<DatamodelTable, id 00e46bbc-dfd1-4c55-837e-200b4eee11b4, name AUFK>,\n",
      "<DatamodelTable, id df6ee693-b422-47a1-a9f1-aee2faa2d456, name PC_to_BG_YCON1>,\n",
      "<DatamodelTable, id dd02a803-d285-4152-887b-0c40c58506a0, name VBAP>,\n",
      "<DatamodelTable, id 115f2dfe-0e8c-45a0-8757-4d16686bfd48, name KNKK>,\n",
      "<DatamodelTable, id 7ccf429c-e138-4b0e-92de-1263d44aee0b, name NAST>,\n",
      "<DatamodelTable, id c131294d-a3b7-49ea-ae09-b23237c27fbd, name KNB1>,\n",
      "<DatamodelTable, id 64c91412-8a25-47d2-91c6-b5dfc0dbc0a2, name VBEP>,\n",
      "<DatamodelTable, id feb3894d-136c-4e4d-85b3-a5320c5953b6, name MARC>,\n",
      "<DatamodelTable, id d7b518db-cd21-41a9-9baf-b9b7cac4b54f, name KNA1>,\n",
      "<DatamodelTable, id 1cd53b77-1bbb-428e-ace8-b275f1072fa9, name MARA>,\n",
      "<DatamodelTable, id 31afa03c-3aae-44c8-9473-8643e1a5af3d, name GIC_Codes>,\n",
      "<DatamodelTable, id 8e9d2a20-782b-4ef9-92c1-c5a4b024e264, name _CEL_O2C_ACTIVITIES>,\n",
      "<DatamodelTable, id 93fb0318-bdb9-4aef-b68c-3e6a15d1f83f, name CEL_O2C_ACTIVITY_MASTER_DATA>,\n",
      "<DatamodelTable, id a89f3f84-0952-4a7e-a4c5-cdbbe872f1ca, name VBRK>,\n",
      "<DatamodelTable, id 50d55188-7d8a-480e-a0ff-85385c84fa94, name LIKP>,\n",
      "<DatamodelTable, id 6acfa7b3-5b34-4709-8275-cb3078c5b264, name T023T>,\n",
      "<DatamodelTable, id 12c17453-ac12-48f1-abf9-3a7b6b611ac8, name VBAK>,\n",
      "<DatamodelTable, id f669e3ed-38d2-4c26-ba76-8de2129a7ba5, name VBUK>,\n",
      "<DatamodelTable, id fe6d430d-9476-4768-889e-fe0378966fca, name CoCd>,\n",
      "<DatamodelTable, id 2f636149-413b-479e-a064-3be8a458dc8d, name HC Cocd>,\n",
      "<DatamodelTable, id 555504dd-0d82-43b0-85c2-0be84e8f8dd3, name O2C_LIPS>,\n",
      "<DatamodelTable, id a0cd6e41-6800-4977-81be-62ee73550501, name O2C_VBFA_V>,\n",
      "<DatamodelTable, id 15b77cf1-bfab-45a8-a563-c831809a0747, name VBKD>,\n",
      "<DatamodelTable, id 03834cb0-b1da-4044-b5d7-85442071e93b, name PRPS>,\n",
      "<DatamodelTable, id 7fdc1541-cdb1-4ab2-a815-0e463e950180, name Customer_to_Market>,\n",
      "<DatamodelTable, id 5696ec17-3cbe-402b-aae0-baaf83e86494, name O2C_VBFA_N>,\n",
      "<DatamodelTable, id c7d6da69-6844-4c36-91ef-c2d889c43e21, name MaterialGroup_mapping>,\n",
      "<DatamodelTable, id d5fe1767-7595-4cf7-a2e4-2593e8514fe0, name NIMS>,\n",
      "<DatamodelTable, id b145b646-14f5-44c8-aa22-f8cf66b917d0, name SRS_items>,\n",
      "<DatamodelTable, id d0abae0a-a4d9-484f-be01-05a00986d0ad, name NIMS_YBC>,\n",
      "<DatamodelTable, id 32693430-a938-4496-a03e-e1e0863b30a8, name MAP_BG>,\n",
      "<DatamodelTable, id 707f1383-5b09-49a8-813b-3ea16b6848a8, name Business_Groups>,\n",
      "<DatamodelTable, id d9dd395b-2a6a-4e4c-b9b3-0af98653112d, name ProductHier>,\n",
      "<DatamodelTable, id 7c6653f4-385d-4a9b-89de-752c4cfc5ae1, name BKPF>,\n",
      "<DatamodelTable, id 65c0ae28-f43a-420e-bd1b-efb833df99e8, name MAP_BG_SO_Level>,\n",
      "<DatamodelTable, id 6a64c7fc-f9ea-472c-aff7-e872511a4ba0, name VBUP>,\n",
      "<DatamodelTable, id e74fc404-9f9f-41cd-93ef-c4b7f6e1366a, name SO_CLOSURE_DATES_TABLE_2>,\n",
      "<DatamodelTable, id 4e9b6156-384e-4c1e-a780-b8c3597699b2, name VBRP>,\n",
      "<DatamodelTable, id 99765267-2683-4b6e-8a0f-801b3ef026d7, name Nokia_Reporting_Calendar_3>,\n",
      "<DatamodelTable, id dcf2ea07-5b3e-4b15-bb66-165ae1119869, name VBEP_OR>,\n",
      "<DatamodelTable, id 91cb2066-ca43-4688-9f9e-27fdd02dacc7, name Calendar>,\n",
      "<DatamodelTable, id 9f98f6f7-b81d-4685-aac8-4cfa25a62eb8, name Customer>,\n",
      "<DatamodelTable, id 5d13c5d8-73ae-4b1f-8b7c-e9887a5ef31e, name Nokia_Reporting_Calendar_2>,\n",
      "<DatamodelTable, id 719fb5f9-6544-4f1a-8851-ed9b959b22e9, name Nokia_Reporting_Calendar>,\n",
      "<DatamodelTable, id 5754fc1b-1aec-4a8d-8bac-3cb0122b4086, name 377_Partner_Function>,\n",
      "]\n"
     ]
    }
   ],
   "source": [
    "print(c.print_datamodel_tables())"
   ]
  },
  {
   "cell_type": "code",
   "execution_count": 22,
   "id": "9243c942",
   "metadata": {},
   "outputs": [],
   "source": [
    "#datamodel = c.celonis.datamodels.find(\"O2C | DataFlow\")\n",
    "#datamodel.tables.find('VBAP').columns"
   ]
  },
  {
   "cell_type": "code",
   "execution_count": 46,
   "id": "07688eb3",
   "metadata": {},
   "outputs": [],
   "source": [
    "table_name = \"VBRK\""
   ]
  },
  {
   "cell_type": "code",
   "execution_count": 4,
   "id": "b1c79d6c",
   "metadata": {},
   "outputs": [
    {
     "ename": "NameError",
     "evalue": "name 'datamodel' is not defined",
     "output_type": "error",
     "traceback": [
      "\u001b[1;31m---------------------------------------------------------------------------\u001b[0m",
      "\u001b[1;31mNameError\u001b[0m                                 Traceback (most recent call last)",
      "Cell \u001b[1;32mIn[4], line 2\u001b[0m\n\u001b[0;32m      1\u001b[0m q \u001b[38;5;241m=\u001b[39m pql\u001b[38;5;241m.\u001b[39mPQL()\n\u001b[1;32m----> 2\u001b[0m columns \u001b[38;5;241m=\u001b[39m \u001b[43mdatamodel\u001b[49m\u001b[38;5;241m.\u001b[39mtables\u001b[38;5;241m.\u001b[39mfind(table_name)\u001b[38;5;241m.\u001b[39mcolumns\n\u001b[0;32m      3\u001b[0m \u001b[38;5;28;01mfor\u001b[39;00m cols \u001b[38;5;129;01min\u001b[39;00m \u001b[38;5;28mrange\u001b[39m(\u001b[38;5;241m1\u001b[39m,\u001b[38;5;28mlen\u001b[39m(columns)):\n\u001b[0;32m      4\u001b[0m     q \u001b[38;5;241m+\u001b[39m\u001b[38;5;241m=\u001b[39m pql\u001b[38;5;241m.\u001b[39mPQLColumn(query \u001b[38;5;241m=\u001b[39m table_name\u001b[38;5;241m+\u001b[39m \u001b[38;5;124mf\u001b[39m\u001b[38;5;124m\"\u001b[39m\u001b[38;5;124m.\u001b[39m\u001b[38;5;132;01m{\u001b[39;00mcolumns[cols][\u001b[38;5;124m'\u001b[39m\u001b[38;5;124mname\u001b[39m\u001b[38;5;124m'\u001b[39m]\u001b[38;5;132;01m}\u001b[39;00m\u001b[38;5;124m\"\u001b[39m, name \u001b[38;5;241m=\u001b[39m  columns[cols][\u001b[38;5;124m'\u001b[39m\u001b[38;5;124mname\u001b[39m\u001b[38;5;124m'\u001b[39m]\u001b[38;5;241m.\u001b[39mupper())\n",
      "\u001b[1;31mNameError\u001b[0m: name 'datamodel' is not defined"
     ]
    }
   ],
   "source": [
    "q = pql.PQL()\n",
    "columns = datamodel.tables.find(table_name).columns\n",
    "for cols in range(1,len(columns)):\n",
    "    q += pql.PQLColumn(query = table_name+ f\".{columns[cols]['name']}\", name =  columns[cols]['name'].upper())\n",
    "        #query += pql.PQLFilter(\"tab.colname == value\") ## here is an example of how you can add filters to the pql statement.\n",
    "\n",
    "\n",
    "activity_column = datamodel._get_data_frame(q, chunksize = 1000000)\n",
    "activity_column.head()"
   ]
  },
  {
   "cell_type": "code",
   "execution_count": 50,
   "id": "d0ecae74",
   "metadata": {
    "scrolled": true
   },
   "outputs": [
    {
     "data": {
      "text/plain": [
       "(3331877, 110)"
      ]
     },
     "execution_count": 50,
     "metadata": {},
     "output_type": "execute_result"
    }
   ],
   "source": [
    "activity_column.shape"
   ]
  },
  {
   "cell_type": "code",
   "execution_count": 3,
   "id": "f8577193",
   "metadata": {},
   "outputs": [
    {
     "ename": "NameError",
     "evalue": "name 'datamodel' is not defined",
     "output_type": "error",
     "traceback": [
      "\u001b[1;31m---------------------------------------------------------------------------\u001b[0m",
      "\u001b[1;31mNameError\u001b[0m                                 Traceback (most recent call last)",
      "Cell \u001b[1;32mIn[3], line 1\u001b[0m\n\u001b[1;32m----> 1\u001b[0m test \u001b[38;5;241m=\u001b[39m \u001b[43mc\u001b[49m\u001b[38;5;241;43m.\u001b[39;49m\u001b[43mget_data\u001b[49m\u001b[43m(\u001b[49m\u001b[38;5;124;43m'\u001b[39;49m\u001b[38;5;124;43mVBEP_EBAN_LINK\u001b[39;49m\u001b[38;5;124;43m'\u001b[39;49m\u001b[43m)\u001b[49m\n\u001b[0;32m      2\u001b[0m test\u001b[38;5;241m.\u001b[39mhead()\n",
      "Cell \u001b[1;32mIn[1], line 29\u001b[0m, in \u001b[0;36mCelonis.get_data\u001b[1;34m(self, table_name)\u001b[0m\n\u001b[0;32m     27\u001b[0m \u001b[38;5;28;01mfor\u001b[39;00m cols \u001b[38;5;129;01min\u001b[39;00m \u001b[38;5;28mrange\u001b[39m(\u001b[38;5;241m1\u001b[39m,\u001b[38;5;28mlen\u001b[39m(columns)):\n\u001b[0;32m     28\u001b[0m     q \u001b[38;5;241m+\u001b[39m\u001b[38;5;241m=\u001b[39m pql\u001b[38;5;241m.\u001b[39mPQLColumn(query \u001b[38;5;241m=\u001b[39m table_name\u001b[38;5;241m+\u001b[39m \u001b[38;5;124mf\u001b[39m\u001b[38;5;124m\"\u001b[39m\u001b[38;5;124m.\u001b[39m\u001b[38;5;132;01m{\u001b[39;00mcolumns[cols][\u001b[38;5;124m'\u001b[39m\u001b[38;5;124mname\u001b[39m\u001b[38;5;124m'\u001b[39m]\u001b[38;5;132;01m}\u001b[39;00m\u001b[38;5;124m\"\u001b[39m, name \u001b[38;5;241m=\u001b[39m  columns[cols][\u001b[38;5;124m'\u001b[39m\u001b[38;5;124mname\u001b[39m\u001b[38;5;124m'\u001b[39m]\u001b[38;5;241m.\u001b[39mupper())\n\u001b[1;32m---> 29\u001b[0m DF \u001b[38;5;241m=\u001b[39m \u001b[43mdatamodel\u001b[49m\u001b[38;5;241m.\u001b[39m_get_data_frame(q, chunksize \u001b[38;5;241m=\u001b[39m \u001b[38;5;241m1000000\u001b[39m)\n\u001b[0;32m     30\u001b[0m \u001b[38;5;28;01mreturn\u001b[39;00m(DF)\n",
      "\u001b[1;31mNameError\u001b[0m: name 'datamodel' is not defined"
     ]
    }
   ],
   "source": [
    "test = c.get_data('VBEP_EBAN_LINK')\n",
    "test.head()"
   ]
  }
 ],
 "metadata": {
  "kernelspec": {
   "display_name": "Python 3 (ipykernel)",
   "language": "python",
   "name": "python3"
  },
  "language_info": {
   "codemirror_mode": {
    "name": "ipython",
    "version": 3
   },
   "file_extension": ".py",
   "mimetype": "text/x-python",
   "name": "python",
   "nbconvert_exporter": "python",
   "pygments_lexer": "ipython3",
   "version": "3.10.9"
  }
 },
 "nbformat": 4,
 "nbformat_minor": 5
}
